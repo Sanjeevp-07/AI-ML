{
  "nbformat": 4,
  "nbformat_minor": 0,
  "metadata": {
    "colab": {
      "provenance": [],
      "authorship_tag": "ABX9TyNCQvII+IRfDvmmzWncW9h3",
      "include_colab_link": true
    },
    "kernelspec": {
      "name": "python3",
      "display_name": "Python 3"
    },
    "language_info": {
      "name": "python"
    }
  },
  "cells": [
    {
      "cell_type": "markdown",
      "metadata": {
        "id": "view-in-github",
        "colab_type": "text"
      },
      "source": [
        "<a href=\"https://colab.research.google.com/github/Sanjeevp-07/AI-ML/blob/main/Uniform_Cost_Search.ipynb\" target=\"_parent\"><img src=\"https://colab.research.google.com/assets/colab-badge.svg\" alt=\"Open In Colab\"/></a>"
      ]
    },
    {
      "cell_type": "code",
      "execution_count": 2,
      "metadata": {
        "colab": {
          "base_uri": "https://localhost:8080/"
        },
        "id": "4eH1MMmiUtH8",
        "outputId": "b7b3fefb-a885-41db-b99c-306977dfd6c0"
      },
      "outputs": [
        {
          "output_type": "stream",
          "name": "stdout",
          "text": [
            "Minimum cost from 0 to 6 is =  3\n"
          ]
        }
      ],
      "source": [
        "def uniform_cost_search(goal, start):\n",
        "\n",
        "\tglobal graph,cost\n",
        "\tanswer = []\n",
        "\n",
        "\tqueue = []\n",
        "\n",
        "\tfor i in range(len(goal)):\n",
        "\t\tanswer.append(10**8)\n",
        "\n",
        "\tqueue.append([0, start])\n",
        "\n",
        "\tvisited = {}\n",
        "\n",
        "\tcount = 0\n",
        "\n",
        "\twhile (len(queue) > 0):\n",
        "\n",
        "\t\tqueue = sorted(queue)\n",
        "\t\tp = queue[-1]\n",
        "\n",
        "\t\tdel queue[-1]\n",
        "\n",
        "\t\tp[0] *= -1\n",
        "\n",
        "\t\t# check if the element is part of\n",
        "\t\t# the goal list\n",
        "\t\tif (p[1] in goal):\n",
        "\n",
        "\t\t\t# get the position\n",
        "\t\t\tindex = goal.index(p[1])\n",
        "\n",
        "\t\t\t# if a new goal is reached\n",
        "\t\t\tif (answer[index] == 10**8):\n",
        "\t\t\t\tcount += 1\n",
        "\n",
        "\t\t\t# if the cost is less\n",
        "\t\t\tif (answer[index] > p[0]):\n",
        "\t\t\t\tanswer[index] = p[0]\n",
        "\n",
        "\t\t\t# pop the element\n",
        "\t\t\tdel queue[-1]\n",
        "\n",
        "\t\t\tqueue = sorted(queue)\n",
        "\t\t\tif (count == len(goal)):\n",
        "\t\t\t\treturn answer\n",
        "\n",
        "\t\t# check for the non visited nodes\n",
        "\t\tif (p[1] not in visited):\n",
        "\t\t\tfor i in range(len(graph[p[1]])):\n",
        "\n",
        "\t\t\t\t# value is multiplied by -1 so that\n",
        "\t\t\t\t# least priority is at the top\n",
        "\t\t\t\tqueue.append( [(p[0] + cost[(p[1], graph[p[1]][i])])* -1, graph[p[1]][i]])\n",
        "\n",
        "\t\t# mark as visited\n",
        "\t\tvisited[p[1]] = 1\n",
        "\n",
        "\treturn answer\n",
        "\n",
        "\n",
        "if __name__ == '__main__':\n",
        "\n",
        "\tgraph,cost = [[] for i in range(8)],{}\n",
        "\n",
        "\tgraph[0].append(1)\n",
        "\tgraph[0].append(3)\n",
        "\tgraph[3].append(1)\n",
        "\tgraph[3].append(6)\n",
        "\tgraph[3].append(4)\n",
        "\tgraph[1].append(6)\n",
        "\tgraph[4].append(2)\n",
        "\tgraph[4].append(5)\n",
        "\tgraph[2].append(1)\n",
        "\tgraph[5].append(2)\n",
        "\tgraph[5].append(6)\n",
        "\tgraph[6].append(4)\n",
        "\n",
        "\n",
        "\tcost[(0, 1)] = 2\n",
        "\tcost[(0, 3)] = 5\n",
        "\tcost[(1, 6)] = 1\n",
        "\tcost[(3, 1)] = 5\n",
        "\tcost[(3, 6)] = 6\n",
        "\tcost[(3, 4)] = 2\n",
        "\tcost[(2, 1)] = 4\n",
        "\tcost[(4, 2)] = 4\n",
        "\tcost[(4, 5)] = 3\n",
        "\tcost[(5, 2)] = 6\n",
        "\tcost[(5, 6)] = 3\n",
        "\tcost[(6, 4)] = 7\n",
        "\n",
        "\tgoal = []\n",
        "\n",
        "\tgoal.append(6)\n",
        "\n",
        "\tanswer = uniform_cost_search(goal, 0)\n",
        "\n",
        "\tprint(\"Minimum cost from 0 to 6 is = \",answer[0])\n",
        "\n"
      ]
    }
  ]
}