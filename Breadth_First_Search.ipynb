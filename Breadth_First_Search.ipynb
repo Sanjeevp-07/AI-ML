{
  "nbformat": 4,
  "nbformat_minor": 0,
  "metadata": {
    "colab": {
      "provenance": [],
      "authorship_tag": "ABX9TyPnrXqiZaKZphOgab7l9SbA",
      "include_colab_link": true
    },
    "kernelspec": {
      "name": "python3",
      "display_name": "Python 3"
    },
    "language_info": {
      "name": "python"
    }
  },
  "cells": [
    {
      "cell_type": "markdown",
      "metadata": {
        "id": "view-in-github",
        "colab_type": "text"
      },
      "source": [
        "<a href=\"https://colab.research.google.com/github/Sanjeevp-07/AI-ML/blob/main/Breadth_First_Search.ipynb\" target=\"_parent\"><img src=\"https://colab.research.google.com/assets/colab-badge.svg\" alt=\"Open In Colab\"/></a>"
      ]
    },
    {
      "cell_type": "code",
      "execution_count": 3,
      "metadata": {
        "colab": {
          "base_uri": "https://localhost:8080/"
        },
        "id": "9QVU4OHgtnDk",
        "outputId": "850950ba-ea44-4c40-da64-188373b7fb7a"
      },
      "outputs": [
        {
          "output_type": "stream",
          "name": "stdout",
          "text": [
            "Following is the breadth-First-Search\n",
            "5 3 7 2 4 8 8 "
          ]
        }
      ],
      "source": [
        "graph = {\n",
        "    '5' : ['3', '7'],\n",
        "    '3' : ['2', '4'],\n",
        "    '7' : ['8'],\n",
        "    '2' : [],\n",
        "    '4' : ['8'],\n",
        "    '8' : []\n",
        "}\n",
        "\n",
        "visited = []\n",
        "queue = []\n",
        "\n",
        "def bfs(visited, graph, node):\n",
        "  visited.append(node)\n",
        "  queue.append(node)\n",
        "\n",
        "  while queue:\n",
        "    m = queue.pop(0)\n",
        "    print(m, end = \" \")\n",
        "\n",
        "    for neighbour in graph[m]:\n",
        "      if neighbour is not visited:\n",
        "        visited.append(neighbour)\n",
        "        queue.append(neighbour)\n",
        "\n",
        "print(\"Following is the breadth-First-Search\")\n",
        "bfs(visited, graph, '5')"
      ]
    }
  ]
}